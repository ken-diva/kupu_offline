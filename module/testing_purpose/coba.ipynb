{
 "cells": [
  {
   "cell_type": "code",
   "execution_count": 17,
   "metadata": {},
   "outputs": [],
   "source": [
    "\n",
    "from PIL import Image\n",
    "  \n",
    "# Opening the primary image (used in background)\n",
    "# img1 = Image.open(f'../static/img_annotation/' + 'a_img_back_result.png')\n",
    "img1 = Image.open(f'../static/' + 'img_back_result.png')\n",
    "  \n",
    "# Opening the secondary image (overlay image)\n",
    "img2 = Image.open(f'../module/' + 'image_back_done2.png')\n",
    "  \n",
    "# Pasting img2 image on top of img1 \n",
    "# starting at coordinates (0, 0)\n",
    "img1.paste(img2, (0,0), mask = img2)\n",
    "  \n",
    "# Displaying the image\n",
    "img1.show()"
   ]
  }
 ],
 "metadata": {
  "kernelspec": {
   "display_name": "Python 3.10.1 ('env': venv)",
   "language": "python",
   "name": "python3"
  },
  "language_info": {
   "codemirror_mode": {
    "name": "ipython",
    "version": 3
   },
   "file_extension": ".py",
   "mimetype": "text/x-python",
   "name": "python",
   "nbconvert_exporter": "python",
   "pygments_lexer": "ipython3",
   "version": "3.10.1"
  },
  "orig_nbformat": 4,
  "vscode": {
   "interpreter": {
    "hash": "85f4d8f115052e6b977122daba2596fa57c57fa86ce23a0d288a19aac0488945"
   }
  }
 },
 "nbformat": 4,
 "nbformat_minor": 2
}
