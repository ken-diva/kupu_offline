{
 "cells": [
  {
   "cell_type": "code",
   "execution_count": 23,
   "metadata": {},
   "outputs": [
    {
     "name": "stdout",
     "output_type": "stream",
     "text": [
      "(255, 255, 255, 0) (255, 255, 255, 255) 500.0\n"
     ]
    }
   ],
   "source": [
    "from PIL import Image\n",
    "\n",
    "img_direction = \"front\"\n",
    "\n",
    "if img_direction == \"front\":\n",
    "    img_path = \"../../static/crop_img/crop_f.png\"\n",
    "    save_path = \"../../static/crop_img/front/baru/\"\n",
    "else:\n",
    "    img_path = \"../../static/crop_img/crop_b.png\"\n",
    "    save_path = \"../../static/crop_img/back/\"\n",
    "\n",
    "img = Image.open(img_path)\n",
    "img = img.convert(\"RGBA\")\n",
    "\n",
    "d = img.getdata()\n",
    "print(d[0], d[150], len(d)/200)\n",
    "\n",
    "# bone_name = [\"Skull\", \"CervicalVert\", \"ThoracicVert\", \"Ribs\", \"Strenum\", \"Clavicle\", \"Scapula\", \"Humerus\", \"LumbarVert\", \"Sacrum\", \"Pelvis\", \"Femur\"]\n",
    "bone_name = [\"Skull\", \"CervicalVert\", \"ThoracicVert\", \"Ribs\", \"Strenum\", \"Clavicle\", \"Scapula\", \"Humerus_left\", \"Humerus_right\", \"Sacrum\", \"Pelvis\", \"Femur\"]\n",
    "color = [0, 17, 34, 51, 68, 85, 102, 119, 136, 153, 170, 187]\n",
    "\n",
    "index_bone_name = 0\n",
    "\n",
    "for c in color:\n",
    "    new_image = []\n",
    "    img = Image.open(img_path)\n",
    "    img = img.convert(\"RGBA\")\n",
    "    counter_kiri = 0\n",
    "    counter_kanan = 100\n",
    "    for item in d:\n",
    "        if item[2] in list(range(c,c+1)):\n",
    "\n",
    "            if counter_kiri < 100:\n",
    "                counter_kiri+=1\n",
    "            if counter_kanan >= 100:\n",
    "                counter_kiri = 0\n",
    "\n",
    "            if c == 0:\n",
    "                new_image.append((21, 193, 78, 190))\n",
    "            elif c == 17:\n",
    "                new_image.append((0, 121, 255, 190))\n",
    "            elif c == 34:\n",
    "                new_image.append((0, 228, 255, 190))\n",
    "            elif c == 85:\n",
    "                new_image.append((109, 21, 193, 190))\n",
    "            elif c == 51:\n",
    "                new_image.append((228, 70, 206, 190))\n",
    "            elif c == 102:\n",
    "                new_image.append((224, 131, 46, 190))\n",
    "            elif c == 68:\n",
    "                new_image.append((129, 64, 4, 190))\n",
    "\n",
    "            elif c == 119:\n",
    "                \n",
    "                new_image.append((14, 24, 156, 190))\n",
    "\n",
    "            elif c == 136:\n",
    "                new_image.append((166, 5, 29, 190))\n",
    "            elif c == 153:\n",
    "                new_image.append((255, 122, 0, 190))\n",
    "            elif c == 170:\n",
    "                new_image.append((16, 119, 7, 190))\n",
    "            elif c == 187:\n",
    "                new_image.append((225, 235, 52, 190))\n",
    "            # new_image.append((55, 0, 75))\n",
    "        else:\n",
    "            new_image.append((255,255,255,0))\n",
    "\n",
    "    # update image data\n",
    "    img.putdata(new_image)\n",
    "\n",
    "    # save new image\n",
    "    # file_format = \".png\"\n",
    "    # img.save( save_path + bone_name[index_bone_name] + file_format)\n",
    "    img.save(f\"{save_path+bone_name[index_bone_name]}.png\")\n",
    "    index_bone_name += 1"
   ]
  }
 ],
 "metadata": {
  "kernelspec": {
   "display_name": "env",
   "language": "python",
   "name": "python3"
  },
  "language_info": {
   "codemirror_mode": {
    "name": "ipython",
    "version": 3
   },
   "file_extension": ".py",
   "mimetype": "text/x-python",
   "name": "python",
   "nbconvert_exporter": "python",
   "pygments_lexer": "ipython3",
   "version": "3.10.9"
  },
  "orig_nbformat": 4
 },
 "nbformat": 4,
 "nbformat_minor": 2
}
