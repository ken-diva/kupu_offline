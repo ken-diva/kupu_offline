{
 "cells": [
  {
   "cell_type": "code",
   "execution_count": 11,
   "metadata": {},
   "outputs": [
    {
     "name": "stdout",
     "output_type": "stream",
     "text": [
      "Humerus_l\n",
      "Femur_l\n",
      "Humerus_r\n",
      "Femur_r\n"
     ]
    }
   ],
   "source": [
    "from PIL import Image\n",
    "from os.path import exists\n",
    "\n",
    "bone_name = [\"Skull\", \n",
    "            \"CervicalVert\", \n",
    "            \"ThoracicVert\", \n",
    "            \"Ribs\", \n",
    "            \"Strenum\", \n",
    "            \"Clavicle_r\", \n",
    "            \"Clavicle_l\", \n",
    "            \"Scapula_r\", \n",
    "            \"Scapula_l\", \n",
    "            \"Humerus_r\", \n",
    "            \"Humerus_l\", \n",
    "            \"LumbarVert\", \n",
    "            \"Sacrum\", \n",
    "            \"Pelvis\", \n",
    "            \"Femur_r\", \n",
    "            \"Femur_l\"]\n",
    "\n",
    "# make image list (back)\n",
    "img_list = []\n",
    "for b in bone_name:\n",
    "    if b == \"Skull\":\n",
    "        \n",
    "        if exists(f'../../static/img_annotation/back/{b}.png'):\n",
    "            img = Image.open(f'../../static/img_annotation/back/{b}.png')\n",
    "        else:\n",
    "            img = Image.open(f'../../static/crop_img/back/{b}.png')\n",
    "    else:\n",
    "        \n",
    "        if exists(f'../../static/img_annotation/back/{b}.png'):\n",
    "            print(b)\n",
    "            img_list.append(Image.open(f'../../static/img_annotation/back/{b}.png'))\n",
    "        else:\n",
    "            img_list.append(Image.open(f'../../static/crop_img/back/{b}.png'))\n",
    "\n",
    "# merge img list (back)\n",
    "for i in range(len(img_list)):\n",
    "    img.paste(img_list[i], (0,0), mask=img_list[i])\n",
    "\n",
    "img_raw = Image.open('../../upload/img/img_back.png').convert(\"RGBA\")\n",
    "img_raw.paste(img, (-37,0), mask=img)\n",
    "img_raw.save(\"../../static/final_back.png\")\n",
    "\n",
    "# make image list (front)\n",
    "img_list = []\n",
    "for b in bone_name:\n",
    "    if b == \"Skull\":\n",
    "        if exists(f'../../static/img_annotation/front/{b}.png'):\n",
    "            img = Image.open(f'../../static/img_annotation/front/{b}.png')\n",
    "        else:\n",
    "            img = Image.open(f'../../static/crop_img/front/{b}.png')\n",
    "    else:\n",
    "        if exists(f'../../static/img_annotation/front/{b}.png'):\n",
    "            print(b)\n",
    "            img_list.append(Image.open(f'../../static/img_annotation/front/{b}.png'))\n",
    "        else:\n",
    "            img_list.append(Image.open(f'../../static/crop_img/front/{b}.png'))\n",
    "\n",
    "# merge img list (front)\n",
    "for i in range(len(img_list)):\n",
    "    img.paste(img_list[i], (0,0), mask=img_list[i])\n",
    "\n",
    "img_raw = Image.open('../../upload/img/img_front.png').convert(\"RGBA\")\n",
    "img_raw.paste(img, (-37,0), mask=img)\n",
    "img_raw.save(\"../../static/final_front.png\")"
   ]
  }
 ],
 "metadata": {
  "kernelspec": {
   "display_name": "env",
   "language": "python",
   "name": "python3"
  },
  "language_info": {
   "codemirror_mode": {
    "name": "ipython",
    "version": 3
   },
   "file_extension": ".py",
   "mimetype": "text/x-python",
   "name": "python",
   "nbconvert_exporter": "python",
   "pygments_lexer": "ipython3",
   "version": "3.10.9"
  },
  "orig_nbformat": 4
 },
 "nbformat": 4,
 "nbformat_minor": 2
}
