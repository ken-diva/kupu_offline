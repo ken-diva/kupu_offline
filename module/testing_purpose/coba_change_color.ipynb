{
 "cells": [
  {
   "cell_type": "code",
   "execution_count": 10,
   "metadata": {},
   "outputs": [],
   "source": [
    "from PIL import Image\n",
    "\n",
    "\n",
    "img = Image.open('../../static/coba.png')\n",
    "img = img.convert(\"L\")\n",
    "\n",
    "# d = img.getdata()\n",
    "\n",
    "# new_image = []\n",
    "# for item in d:\n",
    "\n",
    "# \t# change all white (also shades of whites)\n",
    "# \t# pixels to yellow\n",
    "# \tif item[0] in list(range(200, 256)):\n",
    "# \t\tnew_image.append((255, 224, 100))\n",
    "# \telse:\n",
    "# \t\tnew_image.append(item)\n",
    "\t\t\n",
    "# # update image data\n",
    "# img.putdata(new_image)\n",
    "\n",
    "# save new image\n",
    "img.save(\"coba_diubah.jpg\")\n"
   ]
  },
  {
   "cell_type": "code",
   "execution_count": 68,
   "metadata": {},
   "outputs": [],
   "source": [
    "from PIL import Image\n",
    "import numpy as np\n",
    "\n",
    "im = Image.open('../../static/coba3333.png')\n",
    "im = im.convert('RGBA')\n",
    "\n",
    "data = np.array(im)   # \"data\" is a height x width x 4 numpy array\n",
    "red, green, blue, alpha = data.T # Temporarily unpack the bands for readability\n",
    "\n",
    "'''\n",
    "tengkorak         : hijau       : 0.6901961   0.9019608  0.050980393 : 176, 230,  13\n",
    "vertebra serviks  : biru        : 0.0         0.5921569  0.85882354  :   0, 151, 219\n",
    "vertebra toraks   : biru muda   : 0.49411765  0.9019608  0.8862745   : 126, 230, 225\n",
    "tulang rusuk      : ungu        : 0.6509804   0.21568628 0.654902    : 166,  55, 167\n",
    "tulang dada       : merah muda  : 0.9019608   0.6156863  0.7058824   : 230, 157, 180\n",
    "tulang selangka   : coklat muda : 0.654902    0.43137255 0.3019608   : 167, 110,  77\n",
    "tulang belikat    : coklat tua  : 0.47843137  0.0        0.09411765  : 121,   0,  24\n",
    "humerus           : biru tua    : 0.22352941  0.25490198 0.72156864  :  56,  65, 184\n",
    "vertebra lumbalis : kuning      : 0.9019608   0.85490197 0.0         : 230, 218,   0\n",
    "sacrum            : jingga      : 0.9019608   0.44705883 0.13725491  : 230, 114,  35\n",
    "panggul           : hijau tua   : 0.050980393 0.7372549  0.24313726  :  13, 187,  62\n",
    "tulang paha       : emas        : 0.9019608   0.7137255  0.08627451  : 230, 182,  22\n",
    "'''\n",
    "\n",
    "# Replace white with red... (leaves alpha values alone...)\n",
    "white_areas = (red == 166) & (green == 55) & (blue == 167)\n",
    "data[..., :-1][white_areas.T] = (0,0,0) # Transpose back needed\n",
    "\n",
    "im2 = Image.fromarray(data)\n",
    "im2.save(\"coba_diubah.png\")\n",
    "# im2.show()"
   ]
  }
 ],
 "metadata": {
  "kernelspec": {
   "display_name": "env",
   "language": "python",
   "name": "python3"
  },
  "language_info": {
   "codemirror_mode": {
    "name": "ipython",
    "version": 3
   },
   "file_extension": ".py",
   "mimetype": "text/x-python",
   "name": "python",
   "nbconvert_exporter": "python",
   "pygments_lexer": "ipython3",
   "version": "3.10.9"
  },
  "orig_nbformat": 4
 },
 "nbformat": 4,
 "nbformat_minor": 2
}
