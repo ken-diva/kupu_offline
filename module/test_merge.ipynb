{
 "cells": [
  {
   "cell_type": "code",
   "execution_count": 69,
   "metadata": {},
   "outputs": [],
   "source": [
    "from PIL import Image\n",
    "from os.path import exists\n",
    "\n",
    "bone_name = [\"Skull\", \"CervicalVert\", \"ThoracicVert\", \"Ribs\", \"Strenum\", \"Clavicle\", \"Scapula\", \"Humerus\", \"LumbarVert\", \"Sacrum\", \"Pelvis\", \"Femur\"]\n",
    "\n",
    "# make image list\n",
    "img_list = []\n",
    "for b in bone_name:\n",
    "  if b == \"Skull\":\n",
    "    if exists(f'../static/img_annotation/back/{b}.png'):\n",
    "      img = Image.open(f'../static/img_annotation/back/{b}.png')\n",
    "    else:\n",
    "      img = Image.open(f'../static/crop_img/back/{b}.png')\n",
    "  else:\n",
    "    if exists(f'../static/img_annotation/back/{b}.png'):\n",
    "      img_list.append(Image.open(f'../static/img_annotation/back/{b}.png'))\n",
    "    else:\n",
    "      img_list.append(Image.open(f'../static/crop_img/back/{b}.png'))\n",
    "\n",
    "# merge img list\n",
    "for i in range(len(img_list)):\n",
    "  img.paste(img_list[i], (0,0), mask=img_list[i])\n",
    "  # img_list[i].paste(img, (0,0), mask=img)\n",
    "img.save(\"../doneeeeeeeeeeeeee.png\")\n",
    "  # img_list[i].save(\"doneeeeeeeeeeeeee.png\")"
   ]
  }
 ],
 "metadata": {
  "kernelspec": {
   "display_name": "env",
   "language": "python",
   "name": "python3"
  },
  "language_info": {
   "codemirror_mode": {
    "name": "ipython",
    "version": 3
   },
   "file_extension": ".py",
   "mimetype": "text/x-python",
   "name": "python",
   "nbconvert_exporter": "python",
   "pygments_lexer": "ipython3",
   "version": "3.10.9"
  },
  "orig_nbformat": 4
 },
 "nbformat": 4,
 "nbformat_minor": 2
}
